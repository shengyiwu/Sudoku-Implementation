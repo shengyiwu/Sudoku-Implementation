{
  "nbformat": 4,
  "nbformat_minor": 0,
  "metadata": {
    "colab": {
      "name": "Sudoku.ipynb",
      "provenance": [],
      "collapsed_sections": []
    },
    "kernelspec": {
      "name": "python3",
      "display_name": "Python 3"
    }
  },
  "cells": [
    {
      "cell_type": "markdown",
      "metadata": {
        "id": "ytWgGzUkB3Wo",
        "colab_type": "text"
      },
      "source": [
        "### Sudoku Implementation:\n",
        "Class sudoku includs functions that help fill empty slots in a sudoku board.\n",
        "\n",
        "(By Shengyi Wu)"
      ]
    },
    {
      "cell_type": "code",
      "metadata": {
        "id": "1wy6KlLXDIw_",
        "colab_type": "code",
        "colab": {}
      },
      "source": [
        "import numpy as np\n",
        "import random\n",
        "from collections import Counter\n",
        "import time"
      ],
      "execution_count": 1,
      "outputs": []
    },
    {
      "cell_type": "code",
      "metadata": {
        "id": "fxEURYjeBFfE",
        "colab_type": "code",
        "colab": {}
      },
      "source": [
        "class sudoku:\n",
        "  \"\"\"A class of functions to fill Sudoku board\"\"\"\n",
        "  def __init__(self):\n",
        "    \"\"\"Initiate the class with an array block which defines the block number that\n",
        "    each element belongs to\"\"\"\n",
        "    self.blocks = np.array([[1,1,1,2,2,2,3,3,3],\n",
        "                            [1,1,1,2,2,2,3,3,3],\n",
        "                            [1,1,1,2,2,2,3,3,3],\n",
        "                            [4,4,4,5,5,5,6,6,6],\n",
        "                            [4,4,4,5,5,5,6,6,6],\n",
        "                            [4,4,4,5,5,5,6,6,6],\n",
        "                            [7,7,7,8,8,8,9,9,9],\n",
        "                            [7,7,7,8,8,8,9,9,9],\n",
        "                            [7,7,7,8,8,8,9,9,9]])\n",
        "  \n",
        "  def separate_index(self, idx):\n",
        "    \"\"\"get x-index and y-index from np.where funciton\n",
        "       idx: np.where() result (index 0 is the x-axis index, index 1 is the y-axis index)\"\"\"\n",
        "    X = []\n",
        "    Y = []\n",
        "    for l in range(len(idx[0])):\n",
        "      x_i = idx[0][l]\n",
        "      X.append(x_i)\n",
        "      y_i = idx[1][l]\n",
        "      Y.append(y_i)\n",
        "    return X,Y\n",
        "  \n",
        "  def index_block(self, y):\n",
        "    \"\"\"Get the block numbers of elements in the same column\n",
        "       y: column index (range 0 to 8)\"\"\"\n",
        "    if y >= 0 and y <= 2:\n",
        "      return [1,4,7]\n",
        "    elif y >=3 and y <= 5:\n",
        "      return [2,5,8]\n",
        "    else:\n",
        "      return [3,6,9]\n",
        "\n",
        "  def rank_col(self, current_board):\n",
        "    \"\"\"Sort the order of columns based on the number of non-empty elements\"\"\"\n",
        "    no_zero_mat = {}\n",
        "    correct_index = []\n",
        "    for i in range(9):\n",
        "      curr_col = current_board[:,i]\n",
        "      no_zero_mat[i] = [i for i in curr_col if i != 0]\n",
        "    for k in sorted(no_zero_mat, key=lambda k: len(no_zero_mat[k]), reverse=True):\n",
        "      correct_index.append(k)\n",
        "    return correct_index\n",
        "\n",
        "  def possibility(self, current_board):\n",
        "    \"\"\"Initiate the possible numbers to fill in each empty slot to be 1 to 9\"\"\"\n",
        "    all_zeros = {}\n",
        "    for i in range(9):\n",
        "      for j in range(9):\n",
        "        if current_board[i][j] == 0:\n",
        "          X = i\n",
        "          Y = j\n",
        "          pos = list(np.arange(1,10))\n",
        "          all_zeros[tuple([X, Y])] = pos\n",
        "    return all_zeros\n",
        "\n",
        "\n",
        "  def valid_col(self, current_board, y):\n",
        "    \"\"\"Test if the column is valid (consists of number 1 to 9)\n",
        "       y: column index (range 0 to 8)\"\"\"\n",
        "    col = current_board[:,y]\n",
        "    col_comp = set(list(col)) == set(list(np.arange(1,10)))\n",
        "    return col_comp\n",
        "\n",
        "  \n",
        "  def valid_board(self, current_board):\n",
        "    \"\"\"Test if the current board is valid\n",
        "       - Each column consists of number 1 to 9\n",
        "       - Each row consists of number 1 to 9\n",
        "       - Each block consists of number 1 to 9\"\"\"\n",
        "    row_result = []\n",
        "    col_result = []\n",
        "    block_result = []\n",
        "    for i in range(9):\n",
        "      row_comp = set(list(current_board[i,:])) != set(list(np.arange(1,10)))\n",
        "      row_result.append(row_comp)\n",
        "      col_comp = set(list(current_board[:,i])) != set(list(np.arange(1,10)))\n",
        "      col_result.append(col_comp)\n",
        "\n",
        "      same_block = np.where(self.blocks == i+1)\n",
        "      X, Y = self.separate_index(same_block)\n",
        "      block = [current_board[i][j] for i,j in zip(X,Y)]\n",
        "      block_comp = set(block) != set(list(np.arange(1,10)))\n",
        "      block_result.append(block_comp)\n",
        "    total_result = row_result + col_result + block_result\n",
        "    if sum(total_result) == 0:\n",
        "      return True\n",
        "    else:\n",
        "      return False\n",
        "\n",
        "\n",
        "  def fill_with_confidence(self, current_board):\n",
        "    \"\"\"The fill_with_confidence function fills in empty slots that we are 100% definite\n",
        "    with only one answer. First, initiate a list of number 1 to 9 as\n",
        "    possible answers. Then, delete those numbers that have already existed in the \n",
        "    same columns, same rows, or same blocks. For each slots, if there's only one number\n",
        "    left in the list of possible numbers, fill the slot with the number. If there are\n",
        "    multiple numbers left in the list, save the slot index and the list of possible \n",
        "    candidates into a dictionary. The fill_will_confidence function keeps filling till\n",
        "    there is no change on the board.\"\"\"\n",
        "    possibilities = self.possibility(current_board)\n",
        "    curr_board = np.zeros(shape=(9,9))\n",
        "    Cs = {}\n",
        "    while current_board.any() != curr_board.any():\n",
        "      curr_board = current_board\n",
        "      c = {}\n",
        "      for col in range(len(self.rank_col(current_board))):\n",
        "        i = self.rank_col(current_board)[col]\n",
        "        curr_column = np.zeros(9)\n",
        "        while curr_column.any() != current_board[:,i].any():\n",
        "          curr_column = current_board[:,i]\n",
        "          candidates = {}\n",
        "          for j in range(1,10):\n",
        "            curr_col = current_board[:,i]\n",
        "            curr_check = j\n",
        "            if curr_check in curr_col:\n",
        "              continue\n",
        "            else:\n",
        "              block_idx = self.index_block(i)\n",
        "              for b in block_idx:\n",
        "                same_blocks = np.where(self.blocks == b)\n",
        "                X, Y = self.separate_index(same_blocks)\n",
        "                Index = [tuple([i,j]) for i,j in zip(X,Y)]\n",
        "                block = np.array([current_board[i][j] for i,j in zip(X,Y)]).reshape((3,3))\n",
        "                if curr_check in block:\n",
        "                  for key in possibilities.keys():\n",
        "                    if key in Index and curr_check in possibilities[key]:\n",
        "                      curr_value = possibilities[key]\n",
        "                      possibilities[key] = list(set(curr_value) - set([curr_check]))\n",
        "              rest_col_index = list(set(list(np.arange(0,9))) - set([i]))\n",
        "              rest_col = current_board[:,rest_col_index]\n",
        "              for k in range(9):\n",
        "                for l in rest_col_index:\n",
        "                  if current_board[k][l] == curr_check:\n",
        "                    if (k,i) in possibilities.keys() and curr_check in possibilities[(k,i)]:\n",
        "                      curr_value = possibilities[(k,i)]\n",
        "                      possibilities[(k,i)] = list(set(curr_value) - set([curr_check]))\n",
        "\n",
        "              POS = []\n",
        "              for ks in possibilities.keys():\n",
        "                if ks[1] == i:\n",
        "                  if curr_check in possibilities[ks]:\n",
        "                    POS.append(ks)\n",
        "              if len(POS) == 1:\n",
        "                x_idx = POS[0][0]\n",
        "                y_idx = POS[0][1]\n",
        "                current_board[x_idx][y_idx] = curr_check\n",
        "              elif len(POS) > 1:\n",
        "                for p in range(len(POS)):\n",
        "                  x_idx = POS[p][0]\n",
        "                  y_idx = POS[p][1]\n",
        "                  if (x_idx,y_idx) not in candidates.keys():\n",
        "                      candidates[(x_idx, y_idx)] = [curr_check]\n",
        "                  else:\n",
        "                    candidates[(x_idx, y_idx)].append(curr_check)\n",
        "                \n",
        "        c.update(candidates)\n",
        "        Cs = c\n",
        "\n",
        "    sure_keys = []\n",
        "    already_filled = []\n",
        "\n",
        "    for key, item in Cs.items():\n",
        "      if current_board[key[0]][key[1]] != 0:\n",
        "        already_filled.append(key)\n",
        "    for k in already_filled:\n",
        "      if k in Cs.keys():\n",
        "        Cs.pop(k)\n",
        "\n",
        "    for key, item in Cs.items():\n",
        "      if current_board[key[0]][key[1]] == 0:\n",
        "        if len(item) == 1:\n",
        "          current_board[key[0]][key[1]] = item[0]\n",
        "          sure_keys.append(key)\n",
        "    for k1 in sure_keys:\n",
        "      if k1 in Cs.keys():\n",
        "        Cs.pop(k1)\n",
        "    return current_board, Cs\n",
        "\n",
        "\n",
        "\n",
        "  def fill_random(self, current_board, Cs):\n",
        "    \"\"\"The fill_random function fill the rest empty slots with randomly chosen\n",
        "    number from the intersection of the list of candidate numbers and updated \n",
        "    possible numbers based on numbers existing in the same row, column, and block.\"\"\"\n",
        "    while self.valid_board(current_board) == False:\n",
        "      col = 0\n",
        "      num_col = 9\n",
        "      col_len = 9\n",
        "      while col < num_col:\n",
        "        i = self.rank_col(current_board)[col]\n",
        "        ele = 0\n",
        "        n = 0\n",
        "        while ele < col_len and self.valid_col(current_board, i) == False and n < 15:\n",
        "          if current_board[:,i][ele] == 0:\n",
        "            block_num = self.blocks[ele][i]\n",
        "            same_block = np.where(self.blocks == block_num)\n",
        "            X, Y = self.separate_index(same_block)\n",
        "            block = [current_board[i][j] for i,j in zip(X,Y)]\n",
        "            left_ele = list(set(list(np.arange(1,10))) - set(list(current_board[:,i])) - set(list(current_board[ele,:])) - set(block))\n",
        "            possible = list(set(Cs[(ele, i)]) & set(left_ele))\n",
        "            if len(possible) != 0:\n",
        "              current_board[ele][i] = random.choice(possible)\n",
        "              ele += 1\n",
        "              n = n\n",
        "            else:\n",
        "              for item in Cs.keys():\n",
        "                if item[1] == i:\n",
        "                  x = item[0]\n",
        "                  current_board[x][i] = 0\n",
        "              ele = 0\n",
        "              n += 1\n",
        "          else:\n",
        "            ele += 1\n",
        "        if n == 15:\n",
        "          cols = self.rank_col(current_board)[0:col]\n",
        "          for ite in Cs.keys():\n",
        "            if ite[1] in cols:\n",
        "              current_board[ite[0]][ite[1]] = 0\n",
        "          col = 0\n",
        "        else:\n",
        "          col += 1\n",
        "    return current_board\n",
        "  \n",
        "  def fill(self, current_board):\n",
        "    current_board, Cs = self.fill_with_confidence(current_board)\n",
        "    if self.valid_board(current_board) == True:\n",
        "      return current_board\n",
        "    else:\n",
        "      current_board = self.fill_random(current_board, Cs)\n",
        "      return current_board"
      ],
      "execution_count": 2,
      "outputs": []
    },
    {
      "cell_type": "markdown",
      "metadata": {
        "id": "N8Tn1xK1C9cG",
        "colab_type": "text"
      },
      "source": [
        "### Examples:"
      ]
    },
    {
      "cell_type": "code",
      "metadata": {
        "id": "nNaGHZoeC9Co",
        "colab_type": "code",
        "colab": {
          "base_uri": "https://localhost:8080/",
          "height": 34
        },
        "outputId": "ced6641d-244a-40bc-faa9-c50e8ceb987a"
      },
      "source": [
        "mat1 = np.array([[1,3,0,0,9,0,0,5,0],\n",
        "[0,4,0,5,0,0,3,0,0],\n",
        "[0,0,9,0,0,0,0,0,1],\n",
        "[9,0,0,0,0,7,4,0,0],\n",
        "[0,6,0,0,8,0,0,9,0],\n",
        "[0,0,1,4,0,0,0,0,8],\n",
        "[3,0,0,0,0,0,1,0,0],\n",
        "[0,0,7,0,0,2,0,3,0],\n",
        "[0,9,0,0,1,0,0,4,6]])\n",
        "\n",
        "example = sudoku()\n",
        "\n",
        "## count time\n",
        "start = time.time()\n",
        "example.fill(mat1)\n",
        "end = time.time()\n",
        "print(end - start)"
      ],
      "execution_count": 13,
      "outputs": [
        {
          "output_type": "stream",
          "text": [
            "1.1569509506225586\n"
          ],
          "name": "stdout"
        }
      ]
    },
    {
      "cell_type": "code",
      "metadata": {
        "id": "GLiZDCYjG8yv",
        "colab_type": "code",
        "colab": {
          "base_uri": "https://localhost:8080/",
          "height": 170
        },
        "outputId": "515e3b02-4d0d-4950-8f0c-91be8b594be1"
      },
      "source": [
        "example.fill(mat1)"
      ],
      "execution_count": 14,
      "outputs": [
        {
          "output_type": "execute_result",
          "data": {
            "text/plain": [
              "array([[1, 3, 2, 6, 9, 8, 7, 5, 4],\n",
              "       [8, 4, 6, 5, 7, 1, 3, 2, 9],\n",
              "       [5, 7, 9, 3, 2, 4, 6, 8, 1],\n",
              "       [9, 5, 8, 2, 6, 7, 4, 1, 3],\n",
              "       [4, 6, 3, 1, 8, 5, 2, 9, 7],\n",
              "       [7, 2, 1, 4, 3, 9, 5, 6, 8],\n",
              "       [3, 8, 4, 9, 5, 6, 1, 7, 2],\n",
              "       [6, 1, 7, 8, 4, 2, 9, 3, 5],\n",
              "       [2, 9, 5, 7, 1, 3, 8, 4, 6]])"
            ]
          },
          "metadata": {
            "tags": []
          },
          "execution_count": 14
        }
      ]
    },
    {
      "cell_type": "code",
      "metadata": {
        "id": "sZTkPsnzDD2h",
        "colab_type": "code",
        "colab": {
          "base_uri": "https://localhost:8080/",
          "height": 34
        },
        "outputId": "aabfb941-231e-4021-fd6b-f2d1e3bd1042"
      },
      "source": [
        "mat2 = np.array([[0,0,0,2,6,0,9,5,0],\n",
        "[5,0,0,0,0,8,2,0,0],\n",
        "[0,1,2,0,0,0,0,0,7],\n",
        "[0,4,0,0,5,6,0,0,0],\n",
        "[0,5,0,0,0,0,0,6,0],\n",
        "[0,0,0,4,1,0,0,2,0],\n",
        "[7,0,0,0,0,0,8,3,0],\n",
        "[0,0,4,3,0,0,0,0,2],\n",
        "[0,8,1,0,4,2,0,0,0]])\n",
        "\n",
        "## count time\n",
        "start = time.time()\n",
        "example.fill(mat2)\n",
        "end = time.time()\n",
        "print(end - start)"
      ],
      "execution_count": 5,
      "outputs": [
        {
          "output_type": "stream",
          "text": [
            "0.5932154655456543\n"
          ],
          "name": "stdout"
        }
      ]
    },
    {
      "cell_type": "code",
      "metadata": {
        "id": "VUBWNJy6FKwB",
        "colab_type": "code",
        "colab": {
          "base_uri": "https://localhost:8080/",
          "height": 170
        },
        "outputId": "4c4b10f9-2187-4562-e7a6-7541d60e51bc"
      },
      "source": [
        "example.fill(mat2)"
      ],
      "execution_count": 6,
      "outputs": [
        {
          "output_type": "execute_result",
          "data": {
            "text/plain": [
              "array([[8, 3, 7, 2, 6, 4, 9, 5, 1],\n",
              "       [5, 9, 6, 1, 7, 8, 2, 4, 3],\n",
              "       [4, 1, 2, 9, 3, 5, 6, 8, 7],\n",
              "       [2, 4, 3, 8, 5, 6, 1, 7, 9],\n",
              "       [1, 5, 9, 7, 2, 3, 4, 6, 8],\n",
              "       [6, 7, 8, 4, 1, 9, 3, 2, 5],\n",
              "       [7, 2, 5, 6, 9, 1, 8, 3, 4],\n",
              "       [9, 6, 4, 3, 8, 7, 5, 1, 2],\n",
              "       [3, 8, 1, 5, 4, 2, 7, 9, 6]])"
            ]
          },
          "metadata": {
            "tags": []
          },
          "execution_count": 6
        }
      ]
    },
    {
      "cell_type": "code",
      "metadata": {
        "id": "_ITafRDNDSe_",
        "colab_type": "code",
        "colab": {
          "base_uri": "https://localhost:8080/",
          "height": 34
        },
        "outputId": "ca959449-a386-4d8f-e654-17f213d2d358"
      },
      "source": [
        "mat3 = np.array([[2,0,9,0,0,0,4,8,0],\n",
        "[8,0,3,0,9,6,0,0,0],\n",
        "[5,0,0,8,4,0,9,2,0],\n",
        "[7,0,0,3,0,4,0,0,0],\n",
        "[1,0,0,0,5,0,0,0,4],\n",
        "[0,0,0,7,0,2,0,0,8],\n",
        "[0,7,6,0,2,3,0,0,5],\n",
        "[0,0,0,4,6,0,7,0,2],\n",
        "[0,2,5,0,0,0,6,0,9]])\n",
        "\n",
        "## count time\n",
        "start = time.time()\n",
        "example.fill(mat3)\n",
        "end = time.time()\n",
        "print(end - start)"
      ],
      "execution_count": 7,
      "outputs": [
        {
          "output_type": "stream",
          "text": [
            "0.02583479881286621\n"
          ],
          "name": "stdout"
        }
      ]
    },
    {
      "cell_type": "code",
      "metadata": {
        "id": "u_kRfZdnD28y",
        "colab_type": "code",
        "colab": {
          "base_uri": "https://localhost:8080/",
          "height": 170
        },
        "outputId": "6afd20f7-a4eb-4d3e-cd7f-694b62ac4186"
      },
      "source": [
        "example.fill(mat3)"
      ],
      "execution_count": 8,
      "outputs": [
        {
          "output_type": "execute_result",
          "data": {
            "text/plain": [
              "array([[2, 1, 9, 5, 3, 7, 4, 8, 6],\n",
              "       [8, 4, 3, 2, 9, 6, 1, 5, 7],\n",
              "       [5, 6, 7, 8, 4, 1, 9, 2, 3],\n",
              "       [7, 9, 2, 3, 8, 4, 5, 6, 1],\n",
              "       [1, 3, 8, 6, 5, 9, 2, 7, 4],\n",
              "       [6, 5, 4, 7, 1, 2, 3, 9, 8],\n",
              "       [4, 7, 6, 9, 2, 3, 8, 1, 5],\n",
              "       [9, 8, 1, 4, 6, 5, 7, 3, 2],\n",
              "       [3, 2, 5, 1, 7, 8, 6, 4, 9]])"
            ]
          },
          "metadata": {
            "tags": []
          },
          "execution_count": 8
        }
      ]
    }
  ]
}